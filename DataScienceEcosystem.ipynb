{
 "cells": [
  {
   "cell_type": "markdown",
   "id": "5038016e-914e-47b7-a9d8-094675b32759",
   "metadata": {},
   "source": [
    "# Data Science Tools and Ecosystem"
   ]
  },
  {
   "cell_type": "markdown",
   "id": "b0b5db45-cf1b-49dd-bbc7-2880bc4e084f",
   "metadata": {},
   "source": [
    "# Introduccion\n",
    "\n",
    "En el siguiente cuaderno se mostraran ejercicios de las actividades aprendidas en el curso"
   ]
  },
  {
   "cell_type": "markdown",
   "id": "61f184bf-d2f1-499a-9829-77c753504ce7",
   "metadata": {},
   "source": [
    "**Principales objetivos cubiertos en este cuaderno:**\n",
    "\n",
    "- Cómo usar expresiones aritméticas básicas en Python.\n",
    "- Cómo crear tablas utilizando Markdown.\n",
    "- Cómo agregar comentarios y explicar operaciones en código Python.\n",
    "- Cómo estructurar el código con celdas Markdown y de código."
   ]
  },
  {
   "cell_type": "markdown",
   "id": "f42b8250-03a0-49a4-a561-d2788e55dea8",
   "metadata": {},
   "source": [
    "# Los lenguajes utilizados en jupyter son:\n",
    "\n",
    "1. Julia\n",
    "2. R\n",
    "3. Python\n",
    "4. etc."
   ]
  },
  {
   "cell_type": "markdown",
   "id": "22dfdb54-8e6d-4304-b647-78f3dbaab2e4",
   "metadata": {},
   "source": [
    "# Algunas librerias de ciencia de datos son:\n",
    "\n",
    "1. Pandas\n",
    "2. Numpy\n",
    "3. Matplotlib\n",
    "4. Seaborn\n",
    "5. Plotly"
   ]
  },
  {
   "cell_type": "markdown",
   "id": "f74d6c7b-7ddd-47c1-b26f-7e3ccf2081a0",
   "metadata": {},
   "source": [
    "# Herramientas de Ciencia de Datos\n",
    "\n",
    "| Herramientas de Ciencia de Datos|\n",
    "|---------------------------------|\n",
    "| Jupyter Notebooks               |\n",
    "| RStudio                         |\n",
    "| Apache Zeppelin                 |"
   ]
  },
  {
   "cell_type": "markdown",
   "id": "f5c13c30-31fe-4c8a-9f99-f621dd5a9a33",
   "metadata": {},
   "source": [
    "### Muestra de algunos ejemplos de operaciones aritmmeticas basicas en Python.\n",
    "\n",
    "\n",
    "# Suma\n",
    "5 + 3\n",
    "\n",
    "# Resta\n",
    "10 - 4\n",
    "\n",
    "# Multiplicacion\n",
    "6 * 7\n",
    "\n",
    "# Division\n",
    "20 / 5\n",
    "\n",
    "# Exponente\n",
    "2 ** 3\n"
   ]
  },
  {
   "cell_type": "code",
   "execution_count": 26,
   "id": "1cf4ec6e-661e-4332-b5ee-ca86b160b924",
   "metadata": {},
   "outputs": [
    {
     "data": {
      "text/plain": [
       "43262"
      ]
     },
     "execution_count": 26,
     "metadata": {},
     "output_type": "execute_result"
    }
   ],
   "source": [
    "#Aqui se muestra una operación aritmética basica de multiplicacion y suma\n",
    "(345*123)+827"
   ]
  },
  {
   "cell_type": "code",
   "execution_count": 30,
   "id": "480b26c8-60f7-449b-a312-496d5e1a0594",
   "metadata": {},
   "outputs": [
    {
     "data": {
      "text/plain": [
       "12.083333333333334"
      ]
     },
     "execution_count": 30,
     "metadata": {},
     "output_type": "execute_result"
    }
   ],
   "source": [
    "#Se converiran 725 minutos a horas\n",
    "#Se debe de dividir 725 minutos entre 60 para calcular las horas\n",
    "\n",
    "horas=725/60\n",
    "horas"
   ]
  },
  {
   "cell_type": "markdown",
   "id": "9dbdb7e0-3ebd-4490-84c4-ae526c679ffe",
   "metadata": {},
   "source": [
    "## Nombre del Autor.\n",
    "\n",
    "Oscar Cantero Peña\n"
   ]
  },
  {
   "cell_type": "code",
   "execution_count": null,
   "id": "c40bdf43-2bd2-41c0-ae5f-4cb85e620968",
   "metadata": {},
   "outputs": [],
   "source": []
  }
 ],
 "metadata": {
  "kernelspec": {
   "display_name": "Python 3 (ipykernel)",
   "language": "python",
   "name": "python3"
  },
  "language_info": {
   "codemirror_mode": {
    "name": "ipython",
    "version": 3
   },
   "file_extension": ".py",
   "mimetype": "text/x-python",
   "name": "python",
   "nbconvert_exporter": "python",
   "pygments_lexer": "ipython3",
   "version": "3.12.4"
  }
 },
 "nbformat": 4,
 "nbformat_minor": 5
}
